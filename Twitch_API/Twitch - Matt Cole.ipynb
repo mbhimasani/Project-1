{
 "cells": [
  {
   "cell_type": "code",
   "execution_count": 8,
   "metadata": {},
   "outputs": [],
   "source": [
    "import requests\n",
    "import json\n",
    "import pandas as pd\n",
    "import numpy as np\n",
    "from pprint import pprint\n",
    "from datetime import datetime\n",
    "import time\n",
    "import glob"
   ]
  },
  {
   "cell_type": "code",
   "execution_count": 9,
   "metadata": {},
   "outputs": [],
   "source": [
    "clientid= 'rouwd6p819wx3n0d900qty32eg6r0y'\n",
    "topgame_limit = '30'\n",
    "streams_limit = '10'\n",
    "game = 'fortnite'\n",
    "channel_id = 'ninja'\n",
    "topgame_url = f\"https://api.twitch.tv/kraken/games/top?limit={topgame_limit}&client_id={clientid}\"\n",
    "channel_url = f\"https://api.twitch.tv/kraken/channels/{channel_id}?client_id=\"+clientid\n",
    "streams_summary_url=f'https://api.twitch.tv/kraken/streams/summary/?game={game}&client_id='+clientid\n",
    "streams_url =f'https://api.twitch.tv/kraken/streams/?game={game}&client_id={clientid}'\n"
   ]
  },
  {
   "cell_type": "code",
   "execution_count": 10,
   "metadata": {},
   "outputs": [],
   "source": [
    "list_25 = np.arange(0,25,1)"
   ]
  },
  {
   "cell_type": "code",
   "execution_count": 11,
   "metadata": {},
   "outputs": [],
   "source": [
    "import time\n",
    "ts = time.time()\n",
    "st = datetime.fromtimestamp(ts).strftime('%Y-%m-%d %H:%M')\n"
   ]
  },
  {
   "cell_type": "code",
   "execution_count": 12,
   "metadata": {},
   "outputs": [
    {
     "data": {
      "text/plain": [
       "0    NaN\n",
       "1    NaN\n",
       "2    NaN\n",
       "3    NaN\n",
       "4    NaN\n",
       "5    NaN\n",
       "6    NaN\n",
       "7    NaN\n",
       "8    NaN\n",
       "9    NaN\n",
       "10   NaN\n",
       "11   NaN\n",
       "12   NaN\n",
       "13   NaN\n",
       "14   NaN\n",
       "15   NaN\n",
       "16   NaN\n",
       "17   NaN\n",
       "18   NaN\n",
       "19   NaN\n",
       "20   NaN\n",
       "21   NaN\n",
       "22   NaN\n",
       "23   NaN\n",
       "24   NaN\n",
       "Name: Channels, dtype: float64"
      ]
     },
     "execution_count": 12,
     "metadata": {},
     "output_type": "execute_result"
    }
   ],
   "source": [
    "data = pd.DataFrame()\n",
    "data['Date'] = ''\n",
    "data['Rank'] = list_25\n",
    "data['Game'] = ''\n",
    "data['Viewers'] = ''\n",
    "data['Channels']=''\n",
    "data['GiantBomb ID'] =''\n",
    "pd.to_numeric(data['Viewers'])\n",
    "pd.to_numeric(data['Channels'])\n"
   ]
  },
  {
   "cell_type": "code",
   "execution_count": 14,
   "metadata": {},
   "outputs": [
    {
     "name": "stdout",
     "output_type": "stream",
     "text": [
      "On loop 0\n",
      "----------------\n",
      "On loop 1\n",
      "----------------\n",
      "On loop 2\n",
      "----------------\n",
      "On loop 3\n",
      "----------------\n",
      "On loop 4\n",
      "----------------\n",
      "On loop 5\n",
      "----------------\n",
      "On loop 6\n",
      "----------------\n",
      "On loop 7\n",
      "----------------\n",
      "On loop 8\n",
      "----------------\n",
      "On loop 9\n",
      "----------------\n"
     ]
    }
   ],
   "source": [
    "loops = np.arange(0,10,1)\n",
    "for loop in loops:    \n",
    "    \n",
    "    response = requests.get(topgame_url).json()\n",
    "\n",
    "    for index, row in data.iterrows():\n",
    "    \n",
    "        import time\n",
    "        #timestamp\n",
    "        ts = time.time()\n",
    "        st = datetime.fromtimestamp(ts).strftime('%Y-%m-%d %H:%M')\n",
    "        #putting data into list\n",
    "        game = response['top'][index]['game']['name']\n",
    "        viewers = response['top'][index]['viewers']\n",
    "        channels = response['top'][index]['channels']\n",
    "        giant_id = response['top'][index]['game']['giantbomb_id']\n",
    "        #appending to dataframe\n",
    "        data.loc[index, 'Date'] = st\n",
    "        data.loc[index, 'Game'] = game\n",
    "        data.loc[index, 'Viewers'] = viewers\n",
    "        data.loc[index, 'Channels'] = channels\n",
    "        data.loc[index, 'GiantBomb ID']=giant_id \n",
    "    #Push to csv\n",
    "    # Save data frame to csv file with timestamp as name\n",
    "    time_stamp = time.strftime(\"%Y-%m-%d %H.%M\")\n",
    "    filepath_games = f\"Games_CSV/ Games Data {time_stamp}.csv\"\n",
    "    data.to_csv(filepath_games, index = False, header = True,sep = ',', encoding = 'utf-8' )\n",
    "    \n",
    "    #Streamers\n",
    "    \n",
    "    \n",
    "    \n",
    "    \n",
    "    #Print statement\n",
    "    print(f'On loop {loop}')\n",
    "    print('----------------')  \n",
    "    #Sleep\n",
    "    time.sleep(15)\n"
   ]
  },
  {
   "cell_type": "code",
   "execution_count": null,
   "metadata": {},
   "outputs": [],
   "source": [
    "!ls\n",
    "glob.glob(\"*.csv\")"
   ]
  },
  {
   "cell_type": "code",
   "execution_count": null,
   "metadata": {},
   "outputs": [],
   "source": [
    "all_data = pd.DataFrame()\n",
    "for file in glob.glob(\"*.csv\"):\n",
    "    df = pd.read_csv(file)\n",
    "    all_data = all_data.append(df,ignore_index=True)\n",
    "\n",
    "all_data.to_csv(\"alldata.csv\")\n",
    "#keep index? could be used to see if any files didn't join together\n"
   ]
  },
  {
   "cell_type": "code",
   "execution_count": null,
   "metadata": {},
   "outputs": [],
   "source": [
    "\n",
    "    game_base_url = f\"https://api.twitch.tv/kraken/games/top/?client_id={clientid}&limit=30\"\n",
    "    top_game_data = requests.get(game_base_url).json()\n",
    "    games = []\n",
    "    # Create for loop and create list of top 25 games\n",
    "    for i in range(0,25):\n",
    "        game = top_game_data['top'][i]['game']['name']\n",
    "        games.append(game)\n",
    "    \n",
    "    # Use list of top game names from previous API request to search top 10 streams per game\n",
    "    stream_base_url = f\"https://api.twitch.tv/kraken/streams/?client_id={clientid}&limit=15&game=\"\n",
    "    display_names = []\n",
    "    ranks = []\n",
    "    viewers_list = []\n",
    "    followers_list = []\n",
    "    total_channel_views_list = []\n",
    "    timestamps = []\n",
    "    game_names = []\n",
    "\n",
    "    for game in games:\n",
    "        stream_url = stream_base_url + game\n",
    "        top_10_stream_data = requests.get(stream_url).json()\n",
    "\n",
    "        for j in range(0,10):\n",
    "\n",
    "            try:\n",
    "                display_name = top_10_stream_data['streams'][j]['channel']['display_name']\n",
    "                display_names.append(display_name)\n",
    "                rank = j + 1\n",
    "\n",
    "                ranks.append(rank)\n",
    "\n",
    "                game_names.append(game)\n",
    "\n",
    "                num_viewers = top_10_stream_data['streams'][j]['viewers']\n",
    "                viewers_list.append(num_viewers)\n",
    "\n",
    "                num_followers = top_10_stream_data['streams'][j]['channel']['followers']\n",
    "                followers_list.append(num_followers)\n",
    "\n",
    "                total_channel_views = top_10_stream_data['streams'][j]['channel']['views']\n",
    "                total_channel_views_list.append(total_channel_views)\n",
    "\n",
    "                unix_time = time.time()\n",
    "                timestamp = datetime.datetime.fromtimestamp(unix_time).strftime('%Y-%m-%d %H:%M')\n",
    "                timestamps.append(timestamp)\n",
    "\n",
    "            except: IndexError\n",
    "                \n",
    "    stream_df = pd.DataFrame({'Timestamp': timestamps,\n",
    "                          'Game Title': game_names,\n",
    "                          'Rank': ranks,\n",
    "                          'Display Name': display_names,\n",
    "                          'Viewers': viewers_list,\n",
    "                          'Channel Followers': followers_list,\n",
    "                          'Total Channel Views': total_channel_views_list})\n",
    "    # Save data frame to csv file with timestamp as name\n",
    "    time_stamp = time.strftime(\"%Y-%m-%d %H.%M\")\n",
    "    file_path= f\"Streamers_CSV/ Stream Data {time_stamp}.csv\"\n",
    "    stream_df.to_csv(file_path, index = False, header = True, sep = ',', encoding = 'utf-8')    "
   ]
  }
 ],
 "metadata": {
  "kernelspec": {
   "display_name": "Python 3",
   "language": "python",
   "name": "python3"
  },
  "language_info": {
   "codemirror_mode": {
    "name": "ipython",
    "version": 3
   },
   "file_extension": ".py",
   "mimetype": "text/x-python",
   "name": "python",
   "nbconvert_exporter": "python",
   "pygments_lexer": "ipython3",
   "version": "3.6.5"
  }
 },
 "nbformat": 4,
 "nbformat_minor": 2
}
