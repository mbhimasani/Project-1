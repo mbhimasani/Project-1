{
 "cells": [
  {
   "cell_type": "code",
   "execution_count": 5,
   "metadata": {},
   "outputs": [],
   "source": [
    "import requests\n",
    "import json\n",
    "import pandas as pd\n",
    "import numpy as np\n",
    "from pprint import pprint\n",
    "from datetime import datetime\n",
    "import time"
   ]
  },
  {
   "cell_type": "code",
   "execution_count": 3,
   "metadata": {},
   "outputs": [],
   "source": [
    "clientid= 'rouwd6p819wx3n0d900qty32eg6r0y'\n",
    "topgame_limit = '30'\n",
    "streams_limit = '10'\n",
    "game = 'fortnite'\n",
    "channel_id = 'ninja'\n",
    "topgame_url = f\"https://api.twitch.tv/kraken/games/top?limit={topgame_limit}&client_id={clientid}\"\n",
    "channel_url = f\"https://api.twitch.tv/kraken/channels/{channel_id}?client_id=\"+clientid\n",
    "streams_summary_url=f'https://api.twitch.tv/kraken/streams/summary/?game={game}&client_id='+clientid\n",
    "streams_url =f'https://api.twitch.tv/kraken/streams/?game={game}&client_id={clientid}'\n"
   ]
  },
  {
   "cell_type": "code",
   "execution_count": 48,
   "metadata": {},
   "outputs": [
    {
     "data": {
      "text/plain": [
       "15518"
      ]
     },
     "execution_count": 48,
     "metadata": {},
     "output_type": "execute_result"
    }
   ],
   "source": [
    "list_25 = np.arange(0,25,1)\n",
    "\n",
    "\n",
    "\n",
    "for x in list_25:\n",
    "    topgame_response = requests.get(topgame_url).json()\n",
    "    topgames.append(topgame_response['top'][x]['game']['name'])\n",
    "topgames\n",
    "\n"
   ]
  },
  {
   "cell_type": "code",
   "execution_count": 58,
   "metadata": {},
   "outputs": [
    {
     "name": "stdout",
     "output_type": "stream",
     "text": [
      "15518\n",
      "37030\n",
      "2018-10-03 20:42:36.379999\n"
     ]
    }
   ],
   "source": [
    "print(topgame_response['top'][0]['channels'])\n",
    "print(topgame_response['top'][0]['game']['giantbomb_id'])\n",
    "print(datetime.fromtimestamp(time.time()))"
   ]
  },
  {
   "cell_type": "code",
   "execution_count": 6,
   "metadata": {},
   "outputs": [],
   "source": [
    "data = pd.DataFrame()\n",
    "data['Date'] = ''\n",
    "data['']"
   ]
  },
  {
   "cell_type": "code",
   "execution_count": null,
   "metadata": {},
   "outputs": [],
   "source": []
  }
 ],
 "metadata": {
  "kernelspec": {
   "display_name": "Python 3",
   "language": "python",
   "name": "python3"
  },
  "language_info": {
   "codemirror_mode": {
    "name": "ipython",
    "version": 3
   },
   "file_extension": ".py",
   "mimetype": "text/x-python",
   "name": "python",
   "nbconvert_exporter": "python",
   "pygments_lexer": "ipython3",
   "version": "3.6.5"
  }
 },
 "nbformat": 4,
 "nbformat_minor": 2
}
